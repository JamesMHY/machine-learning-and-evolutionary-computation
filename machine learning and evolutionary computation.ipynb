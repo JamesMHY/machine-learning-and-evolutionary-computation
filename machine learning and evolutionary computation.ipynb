{
 "cells": [
  {
   "cell_type": "markdown",
   "metadata": {},
   "source": [
    "# Import Lib"
   ]
  },
  {
   "cell_type": "code",
   "execution_count": 1,
   "metadata": {
    "scrolled": true
   },
   "outputs": [],
   "source": [
    "# Code goes here.\n",
    "#import lib\n",
    "import numpy as np #numpy\n",
    "import matplotlib.pylab as plt #matplotlib.pylab\n",
    "import pandas as pd #pandas\n",
    "from sklearn.ensemble import RandomForestRegressor #RandomForestRegressor \n",
    "from sklearn.neural_network import MLPRegressor #MLPRegressor\n",
    "from sklearn.svm import SVR #SVR\n",
    "from sklearn.model_selection import train_test_split, KFold #train_test_split\n",
    "from sklearn.metrics import mean_absolute_error  #MAE\n",
    "from sklearn.preprocessing import StandardScaler #preprocessing data\n",
    "from copy import deepcopy #deepcopy"
   ]
  },
  {
   "cell_type": "markdown",
   "metadata": {},
   "source": [
    "# Part 1"
   ]
  },
  {
   "cell_type": "code",
   "execution_count": 2,
   "metadata": {},
   "outputs": [],
   "source": [
    "DATA_PATH_1 = './AlgerianFF_Region1.csv' #AlgerianFF_Region1.csv\n",
    "DATA_PATH_2 = './AlgerianFF_Region2.csv' #AlgerianFF_Region2.csv\n",
    "N_SPLITS = 5    # Number of cross validation folds\n",
    "FEATRURE_COLUMNS = ['Temperature', 'RH', 'Ws', 'Rain', 'FFMC', 'DMC', 'DC', 'ISI', 'BUI'] # features used to train a model\n",
    "TARGET_COLUMN = 'FWI' # target \n",
    "RANDOM_STATE = 42 # random state used\n",
    "TRAIN_RATIO = 0.8 # the proportion of the dataset to include in the train split"
   ]
  },
  {
   "cell_type": "markdown",
   "metadata": {},
   "source": [
    "# Task 1.1 of AlgerianFF_Region1"
   ]
  },
  {
   "cell_type": "markdown",
   "metadata": {},
   "source": [
    "# Data preparation of AlgerianFF_Region1"
   ]
  },
  {
   "cell_type": "code",
   "execution_count": 3,
   "metadata": {},
   "outputs": [
    {
     "name": "stdout",
     "output_type": "stream",
     "text": [
      "<class 'pandas.core.frame.DataFrame'>\n",
      "RangeIndex: 122 entries, 0 to 121\n",
      "Data columns (total 13 columns):\n",
      " #   Column       Non-Null Count  Dtype  \n",
      "---  ------       --------------  -----  \n",
      " 0   day          122 non-null    int64  \n",
      " 1   month        122 non-null    int64  \n",
      " 2   year         122 non-null    int64  \n",
      " 3   Temperature  122 non-null    int64  \n",
      " 4   RH           122 non-null    int64  \n",
      " 5   Ws           122 non-null    int64  \n",
      " 6   Rain         122 non-null    float64\n",
      " 7   FFMC         122 non-null    float64\n",
      " 8   DMC          122 non-null    float64\n",
      " 9   DC           122 non-null    float64\n",
      " 10  ISI          122 non-null    float64\n",
      " 11  BUI          122 non-null    float64\n",
      " 12  FWI          122 non-null    float64\n",
      "dtypes: float64(7), int64(6)\n",
      "memory usage: 12.5 KB\n"
     ]
    }
   ],
   "source": [
    "data_1 = pd.read_csv(DATA_PATH_1)\n",
    "data_1.columns = [x.strip() for x in data_1.columns]\n",
    "data_1.info()"
   ]
  },
  {
   "cell_type": "code",
   "execution_count": 4,
   "metadata": {},
   "outputs": [
    {
     "data": {
      "text/plain": [
       "((122, 9), (122,))"
      ]
     },
     "execution_count": 4,
     "metadata": {},
     "output_type": "execute_result"
    }
   ],
   "source": [
    "X, y = data_1[FEATRURE_COLUMNS], data_1[TARGET_COLUMN]\n",
    "X, y = X.values, y.values\n",
    "X.shape, y.shape"
   ]
  },
  {
   "cell_type": "markdown",
   "metadata": {},
   "source": [
    "# Preprocess data of AlgerianFF_Region1"
   ]
  },
  {
   "cell_type": "code",
   "execution_count": 5,
   "metadata": {},
   "outputs": [],
   "source": [
    "standard_scaler = StandardScaler()\n",
    "X = standard_scaler.fit_transform(X)\n",
    "X_train, X_test, y_train, y_test = train_test_split( X, y, random_state=RANDOM_STATE, train_size=TRAIN_RATIO)"
   ]
  },
  {
   "cell_type": "markdown",
   "metadata": {},
   "source": [
    "# Task 1.3 MAE implementation"
   ]
  },
  {
   "cell_type": "code",
   "execution_count": 6,
   "metadata": {},
   "outputs": [],
   "source": [
    "def train(model, n_splits, X_train, X_test, y_train, y_test): #train model\n",
    "    k_folder = KFold(n_splits)\n",
    "    model_name = model.__class__.__name__\n",
    "    mae = []\n",
    "    print('Training %s ...' % model_name)\n",
    "    for train_index, val_index in k_folder.split(X_train):\n",
    "        model_copy = deepcopy(model)\n",
    "        model_copy.fit(X_train[train_index], y_train[train_index])\n",
    "        y_pred = model_copy.predict(X_train[val_index])\n",
    "        mae.append(mean_absolute_error(y_train[val_index], y_pred))\n",
    "    model.fit(X_train, y_train)\n",
    "    y_test_pred = model.predict(X_test)\n",
    "    test_mae = mean_absolute_error(y_test, y_test_pred)\n",
    "    print('Model: %s, Val Mean MAE: %.4f, Test MAE: %.4f' % (model_name, np.mean(mae), test_mae))\n",
    "    return model, mae, test_mae"
   ]
  },
  {
   "cell_type": "markdown",
   "metadata": {},
   "source": [
    "# Task 1.2 of AlgerianFF_Region1"
   ]
  },
  {
   "cell_type": "markdown",
   "metadata": {},
   "source": [
    "# Regression of AlgerianFF_Region1"
   ]
  },
  {
   "cell_type": "code",
   "execution_count": 7,
   "metadata": {},
   "outputs": [
    {
     "name": "stdout",
     "output_type": "stream",
     "text": [
      "Training RandomForestRegressor ...\n",
      "Model: RandomForestRegressor, Val Mean MAE: 0.6419, Test MAE: 0.7392\n",
      "Training MLPRegressor ...\n",
      "Model: MLPRegressor, Val Mean MAE: 0.3263, Test MAE: 0.3863\n",
      "Training SVR ...\n",
      "Model: SVR, Val Mean MAE: 1.4383, Test MAE: 1.7255\n"
     ]
    }
   ],
   "source": [
    "model = RandomForestRegressor() #Random Forest of AlgerianFF_Region1\n",
    "random_forest, random_forest_val_mae, random_forest_test_mae = train(model, N_SPLITS, X_train, X_test, y_train, y_test)\n",
    "model = MLPRegressor(hidden_layer_sizes=[20, 30], max_iter=3000) #Neural Network of AlgerianFF_Region1\n",
    "mlp, mlp_val_mae, mlp_test_mae = train(model, N_SPLITS, X_train, X_test, y_train, y_test)\n",
    "model = SVR() #SVR of AlgerianFF_Region1\n",
    "svr, svr_val_mae, svr_test_mae = train(model, N_SPLITS, X_train, X_test, y_train, y_test)"
   ]
  },
  {
   "cell_type": "markdown",
   "metadata": {},
   "source": [
    "# Task 1.3 of AlgerianFF_Region1"
   ]
  },
  {
   "cell_type": "markdown",
   "metadata": {},
   "source": [
    "# Box plot of AlgerianFF_Region1"
   ]
  },
  {
   "cell_type": "code",
   "execution_count": 8,
   "metadata": {},
   "outputs": [
    {
     "data": {
      "image/png": "[encoded data removed]",
      "text/plain": [
       "<Figure size 432x288 with 1 Axes>"
      ]
     },
     "metadata": {
      "needs_background": "light"
     },
     "output_type": "display_data"
    }
   ],
   "source": [
    "plt.boxplot([random_forest_val_mae, mlp_val_mae, svr_val_mae], labels=[model.__class__.__name__ for model in [random_forest, mlp, svr]])\n",
    "plt.title('Box Plot of AlgerianFF_Region1')\n",
    "plt.show()"
   ]
  },
  {
   "cell_type": "markdown",
   "metadata": {},
   "source": [
    "# Task 1.1 of AlgerianFF_Region2"
   ]
  },
  {
   "cell_type": "markdown",
   "metadata": {},
   "source": [
    "# Data preparation of AlgerianFF_Region2"
   ]
  },
  {
   "cell_type": "code",
   "execution_count": 9,
   "metadata": {},
   "outputs": [
    {
     "name": "stdout",
     "output_type": "stream",
     "text": [
      "<class 'pandas.core.frame.DataFrame'>\n",
      "RangeIndex: 122 entries, 0 to 121\n",
      "Data columns (total 13 columns):\n",
      " #   Column       Non-Null Count  Dtype  \n",
      "---  ------       --------------  -----  \n",
      " 0   day          122 non-null    int64  \n",
      " 1   month        122 non-null    int64  \n",
      " 2   year         122 non-null    int64  \n",
      " 3   Temperature  122 non-null    int64  \n",
      " 4   RH           122 non-null    int64  \n",
      " 5   Ws           122 non-null    int64  \n",
      " 6   Rain         122 non-null    float64\n",
      " 7   FFMC         122 non-null    float64\n",
      " 8   DMC          122 non-null    float64\n",
      " 9   DC           122 non-null    float64\n",
      " 10  ISI          122 non-null    float64\n",
      " 11  BUI          122 non-null    float64\n",
      " 12  FWI          122 non-null    float64\n",
      "dtypes: float64(7), int64(6)\n",
      "memory usage: 12.5 KB\n"
     ]
    }
   ],
   "source": [
    "data_2 = pd.read_csv(DATA_PATH_2) #read csv\n",
    "data_2.columns = [x.strip() for x in data_2.columns]\n",
    "data_2.info()"
   ]
  },
  {
   "cell_type": "code",
   "execution_count": 10,
   "metadata": {},
   "outputs": [
    {
     "data": {
      "text/plain": [
       "((122, 9), (122,))"
      ]
     },
     "execution_count": 10,
     "metadata": {},
     "output_type": "execute_result"
    }
   ],
   "source": [
    "X, y = data_2[FEATRURE_COLUMNS], data_2[TARGET_COLUMN]\n",
    "X, y = X.values, y.values\n",
    "X.shape, y.shape"
   ]
  },
  {
   "cell_type": "markdown",
   "metadata": {},
   "source": [
    "# Preprocess data of AlgerianFF_Region2"
   ]
  },
  {
   "cell_type": "code",
   "execution_count": 11,
   "metadata": {},
   "outputs": [],
   "source": [
    "standard_scaler = StandardScaler()\n",
    "X = standard_scaler.fit_transform(X)\n",
    "X_train, X_test, y_train, y_test = train_test_split( X, y, random_state=RANDOM_STATE, train_size=TRAIN_RATIO)"
   ]
  },
  {
   "cell_type": "markdown",
   "metadata": {},
   "source": [
    "# Task 1.2 of AlgerianFF_Region2"
   ]
  },
  {
   "cell_type": "markdown",
   "metadata": {},
   "source": [
    "# Regression of AlgerianFF_Region2"
   ]
  },
  {
   "cell_type": "code",
   "execution_count": 12,
   "metadata": {},
   "outputs": [
    {
     "name": "stdout",
     "output_type": "stream",
     "text": [
      "Training RandomForestRegressor ...\n",
      "Model: RandomForestRegressor, Val Mean MAE: 0.9596, Test MAE: 0.6454\n",
      "Training MLPRegressor ...\n",
      "Model: MLPRegressor, Val Mean MAE: 0.7042, Test MAE: 0.6528\n",
      "Training SVR ...\n",
      "Model: SVR, Val Mean MAE: 2.7869, Test MAE: 1.7491\n"
     ]
    }
   ],
   "source": [
    "model = RandomForestRegressor() #Random Forest of AlgerianFF_Region2\n",
    "random_forest, random_forest_val_mae, random_forest_test_mae = train(model, N_SPLITS, X_train, X_test, y_train, y_test)\n",
    "model = MLPRegressor(hidden_layer_sizes=[20, 30], max_iter=3000) #Neural Network of AlgerianFF_Region2\n",
    "mlp, mlp_val_mae, mlp_test_mae = train(model, N_SPLITS, X_train, X_test, y_train, y_test)\n",
    "model = SVR() #SVR of AlgerianFF_Region2\n",
    "svr, svr_val_mae, svr_test_mae = train(model, N_SPLITS, X_train, X_test, y_train, y_test)"
   ]
  },
  {
   "cell_type": "markdown",
   "metadata": {},
   "source": [
    "# Task 1.3 of AlgerianFF_Region2"
   ]
  },
  {
   "cell_type": "markdown",
   "metadata": {},
   "source": [
    "# Box plot of AlgerianFF_Region2"
   ]
  },
  {
   "cell_type": "code",
   "execution_count": 13,
   "metadata": {},
   "outputs": [
    {
     "data": {
      "image/png": "[encoded data removed]",
      "text/plain": [
       "<Figure size 432x288 with 1 Axes>"
      ]
     },
     "metadata": {
      "needs_background": "light"
     },
     "output_type": "display_data"
    }
   ],
   "source": [
    "plt.boxplot([random_forest_val_mae, mlp_val_mae, svr_val_mae], labels=[model.__class__.__name__ for model in [random_forest, mlp, svr]])\n",
    "plt.title('Box Plot of AlgerianFF_Region2')\n",
    "plt.show()"
   ]
  },
  {
   "cell_type": "markdown",
   "metadata": {},
   "source": [
    "# Part 2"
   ]
  },
  {
   "cell_type": "markdown",
   "metadata": {},
   "source": [
    "# Task 2.1"
   ]
  },
  {
   "cell_type": "markdown",
   "metadata": {},
   "source": [
    "# Fitness function"
   ]
  },
  {
   "cell_type": "code",
   "execution_count": 14,
   "metadata": {},
   "outputs": [],
   "source": [
    "def fitness(route, dist_matrix): #fitness function\n",
    "    total_dist = 0\n",
    "    pre = route[0]\n",
    "    for cur in route[1:]:\n",
    "        total_dist += dist_matrix[pre, cur]\n",
    "        pre = cur\n",
    "    return total_dist"
   ]
  },
  {
   "cell_type": "code",
   "execution_count": 15,
   "metadata": {},
   "outputs": [],
   "source": [
    "temp_dist_matrix = np.array([[0, 2, 3], [2, 0, 4], [3, 4, 0]])\n",
    "route = [0, 1, 2]\n",
    "assert fitness(route, temp_dist_matrix) == 6"
   ]
  },
  {
   "cell_type": "markdown",
   "metadata": {},
   "source": [
    "# Random solution"
   ]
  },
  {
   "cell_type": "code",
   "execution_count": 16,
   "metadata": {},
   "outputs": [],
   "source": [
    "def random_solution(city_num): #random_solution\n",
    "    return np.random.permutation(city_num)"
   ]
  },
  {
   "cell_type": "code",
   "execution_count": 17,
   "metadata": {},
   "outputs": [
    {
     "data": {
      "text/plain": [
       "array([7, 8, 5, 1, 9, 3, 6, 0, 4, 2])"
      ]
     },
     "execution_count": 17,
     "metadata": {},
     "output_type": "execute_result"
    }
   ],
   "source": [
    "random_solution(10)"
   ]
  },
  {
   "cell_type": "markdown",
   "metadata": {},
   "source": [
    "# Task 2.2"
   ]
  },
  {
   "cell_type": "markdown",
   "metadata": {},
   "source": [
    "# Swap mutation"
   ]
  },
  {
   "cell_type": "code",
   "execution_count": 18,
   "metadata": {},
   "outputs": [],
   "source": [
    "def swap_mutation(route): #swap mutaiion\n",
    "    child = route.copy()\n",
    "    idx1, idx2 = np.random.choice(len(child), size=2, replace=False)\n",
    "    child[idx2], child[idx1] = child[idx1], child[idx2]\n",
    "    return child"
   ]
  },
  {
   "cell_type": "code",
   "execution_count": 19,
   "metadata": {},
   "outputs": [
    {
     "name": "stdout",
     "output_type": "stream",
     "text": [
      "Parent:  [0 1 2 3 4 5 6 7 8 9]\n",
      "Child:  [0 1 2 5 4 3 6 7 8 9]\n"
     ]
    }
   ],
   "source": [
    "route = np.arange(10)\n",
    "child = swap_mutation(route)\n",
    "print('Parent: ', route)\n",
    "print('Child: ', child)"
   ]
  },
  {
   "cell_type": "markdown",
   "metadata": {},
   "source": [
    "# HillClimber"
   ]
  },
  {
   "cell_type": "code",
   "execution_count": 20,
   "metadata": {},
   "outputs": [],
   "source": [
    "def hill_climber(dist_matrix, max_iter=1000): #hill_climber\n",
    "    parent = random_solution(len(dist_matrix)) # random init\n",
    "    parent_fitness = fitness(parent, dist_matrix)\n",
    "    best_fitness = []\n",
    "    for iter in range(max_iter):\n",
    "        child = swap_mutation(parent)\n",
    "        child_fitness = fitness(child, dist_matrix)\n",
    "        if child_fitness < parent_fitness:\n",
    "            parent = child\n",
    "            parent_fitness = child_fitness\n",
    "\n",
    "        best_fitness.append(parent_fitness)\n",
    "    return parent, best_fitness"
   ]
  },
  {
   "cell_type": "markdown",
   "metadata": {},
   "source": [
    "# Task 2.3"
   ]
  },
  {
   "cell_type": "markdown",
   "metadata": {},
   "source": [
    "# Draw fitness line plot"
   ]
  },
  {
   "cell_type": "code",
   "execution_count": 21,
   "metadata": {},
   "outputs": [],
   "source": [
    "def draw_fitness(fitness_list, title): #draw plot of average, maximun and minimun\n",
    "    fitness_list = np.asarray(fitness_list)\n",
    "    iterations = np.arange(1, fitness_list.shape[1] + 1)\n",
    "    plt.plot(iterations, fitness_list.mean(axis=0),'-', label='average')\n",
    "    plt.plot(iterations, fitness_list.max(axis=0),'--', label='maximum')\n",
    "    plt.plot(iterations, fitness_list.min(axis=0),'-.', label='minimum')\n",
    "    plt.xlabel('Iterations')\n",
    "    plt.ylabel('Fitness')\n",
    "    plt.legend()\n",
    "    plt.title(title)\n",
    "    plt.show()"
   ]
  },
  {
   "cell_type": "markdown",
   "metadata": {},
   "source": [
    "# Test with distances.csv"
   ]
  },
  {
   "cell_type": "code",
   "execution_count": 22,
   "metadata": {},
   "outputs": [
    {
     "data": {
      "image/png": "[encoded data removed]",
      "text/plain": [
       "<Figure size 432x288 with 1 Axes>"
      ]
     },
     "metadata": {
      "needs_background": "light"
     },
     "output_type": "display_data"
    }
   ],
   "source": [
    "dist_matrix = np.loadtxt('./distances.csv',delimiter=',') #dist matrix of distances_short.csv\n",
    "run_time = 30\n",
    "fitness_list = []\n",
    "for i in range(run_time):\n",
    "    r, f = hill_climber(dist_matrix, max_iter=1000)\n",
    "    fitness_list.append(f)\n",
    "draw_fitness(fitness_list, 'distances.csv')"
   ]
  },
  {
   "cell_type": "markdown",
   "metadata": {},
   "source": [
    "# Test with distances_short.csv"
   ]
  },
  {
   "cell_type": "code",
   "execution_count": 23,
   "metadata": {},
   "outputs": [
    {
     "data": {
      "image/png": "[encoded data removed]",
      "text/plain": [
       "<Figure size 432x288 with 1 Axes>"
      ]
     },
     "metadata": {
      "needs_background": "light"
     },
     "output_type": "display_data"
    }
   ],
   "source": [
    "dist_matrix = np.loadtxt('./distances_short.csv',delimiter=',') #dist matrix of distances_short.csv\n",
    "run_time = 30\n",
    "fitness_list = []\n",
    "for i in range(run_time):\n",
    "    r, f = hill_climber(dist_matrix, max_iter=1000)\n",
    "    fitness_list.append(f)\n",
    "draw_fitness(fitness_list, 'distances_short.csv')"
   ]
  },
  {
   "cell_type": "markdown",
   "metadata": {},
   "source": [
    "As can be seen from above two figures, When the number of cities increases, the range of maximum and minimum fitness becomes wider. Because the performance of the hill climber depends on the initial route, and cannot jump of the local optimal."
   ]
  },
  {
   "cell_type": "markdown",
   "metadata": {},
   "source": [
    "# Reference\n",
    "numpy https://numpy.org/doc/stable/\n",
    "pandas https://pandas.pydata.org/docs/user_guide/index.html#user-guide\n",
    "matplotlib https://matplotlib.org/stable/contents.html\n",
    "RandomForestRegressor https://scikit-learn.org/stable/modules/generated/sklearn.ensemble.RandomForestRegressor.html\n",
    "MLPRegressor https://scikit-learn.org/stable/modules/generated/sklearn.neural_network.MLPRegressor.html\n",
    "SVR https://scikit-learn.org/stable/modules/generated/sklearn.svm.SVR.html\n",
    "train test split https://scikit-learn.org/stable/modules/generated/sklearn.model_selection.train_test_split.html\n",
    "mean absolute error https://scikit-learn.org/stable/modules/generated/sklearn.metrics.mean_absolute_error.html\n",
    "Standard Scaler https://scikit-learn.org/stable/modules/generated/sklearn.preprocessing.StandardScaler.html\n",
    "deep copy https://docs.python.org/3/library/copy.html"
   ]
  }
 ],
 "metadata": {
  "kernelspec": {
   "display_name": "Python 3",
   "language": "python",
   "name": "python3"
  },
  "language_info": {
   "codemirror_mode": {
    "name": "ipython",
    "version": 3
   },
   "file_extension": ".py",
   "mimetype": "text/x-python",
   "name": "python",
   "nbconvert_exporter": "python",
   "pygments_lexer": "ipython3",
   "version": "3.8.5"
  }
 },
 "nbformat": 4,
 "nbformat_minor": 2
}
